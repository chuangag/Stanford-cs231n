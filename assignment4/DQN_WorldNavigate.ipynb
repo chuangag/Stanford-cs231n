{
 "cells": [
  {
   "cell_type": "markdown",
   "metadata": {},
   "source": [
    "# World Navigation with DQN\n",
    "\n",
    "In this exercise you will play a world navigation game with Deep Q-Networks. The agent learn to solve a navigation task in a basic grid world. It will be built upon the simple one layer Q-network you created in Exercise 1."
   ]
  },
  {
   "cell_type": "markdown",
   "metadata": {},
   "source": [
    "In order to transform an ordinary Q-Network into a DQN you will be making the following improvements:\n",
    "1. Going from a single-layer network to a multi-layer convolutional network.\n",
    "2. Implementing Experience Replay, which will allow our network to train itself using stored memories from it's experience.\n",
    "3. Utilizing a second \"target\" network, which we will use to compute target Q-values during our updates."
   ]
  },
  {
   "cell_type": "markdown",
   "metadata": {},
   "source": [
    "You will also implement two simple additional improvements to the DQN architecture, Double DQN and Dueling DQN, that allow for improved performance, stability, and faster training time. In the end you will have a network that can tackle a number of challenging Atari games, and we will demonstrate how to train the DQN to learn a basic navigation task."
   ]
  },
  {
   "cell_type": "code",
   "execution_count": 1,
   "metadata": {
    "collapsed": true
   },
   "outputs": [],
   "source": [
    "from __future__ import division\n",
    "\n",
    "import gym\n",
    "import numpy as np\n",
    "import random\n",
    "import tensorflow as tf\n",
    "import tensorflow.contrib.slim as slim\n",
    "import matplotlib.pyplot as plt\n",
    "import scipy.misc\n",
    "import os\n",
    "%matplotlib inline"
   ]
  },
  {
   "cell_type": "markdown",
   "metadata": {},
   "source": [
    "### Load the game environment"
   ]
  },
  {
   "cell_type": "code",
   "execution_count": 2,
   "metadata": {
    "scrolled": false
   },
   "outputs": [
    {
     "data": {
      "image/png": "[encoded data removed]",
      "text/plain": [
       "<matplotlib.figure.Figure at 0x22f516cfba8>"
      ]
     },
     "metadata": {},
     "output_type": "display_data"
    }
   ],
   "source": [
    "from gridworld import gameEnv\n",
    "\n",
    "env = gameEnv(partial=False,size=5)"
   ]
  },
  {
   "cell_type": "markdown",
   "metadata": {},
   "source": [
    "Above is an example of a starting environment in our simple game. The game environment outputs 84x84x3 color images, and uses function calls as similar to the OpenAI gym as possible. The agent controls the blue square, and can move up, down, left, or right. The goal is to move to the green square (for +1 reward) and avoid the red square (for -1 reward). \n",
    "\n",
    "At the start of each episode all squares are randomly placed within a 5x5 grid-world. The agent has 50 steps to achieve as large a reward as possible. Because they are randomly positioned, the agent needs to do more than simply learn a fixed path, as was the case in the FrozenLake environment from Exercise 1. Instead the agent must learn a notion of spatial relationships between the blocks. \n",
    "\n",
    "*Feel free to adjust the size of the gridworld (default 5). Making it smaller provides an easier task for our DQN agent, while making the world larger increases the challenge.*"
   ]
  },
  {
   "cell_type": "markdown",
   "metadata": {},
   "source": [
    "### Addition 1: Convolutional Layers"
   ]
  },
  {
   "cell_type": "markdown",
   "metadata": {},
   "source": [
    "The first major addition to make DQNs work is to use convolutional layers to set up the networks. We are now familiar with convolutional layers after assignment `1-3`. For more information, see the [Tensorflow documentation](https://www.tensorflow.org/api_docs/)."
   ]
  },
  {
   "cell_type": "markdown",
   "metadata": {},
   "source": [
    "### Addition 2: Experience Replay"
   ]
  },
  {
   "cell_type": "markdown",
   "metadata": {},
   "source": [
    "The second major addition to make DQNs work is Experience Replay. The basic idea is that by storing an agent’s experiences, and then randomly drawing batches of them to train the network, we can more robustly learn to perform well in the task. By keeping the experiences we draw random, we prevent the network from only learning about what it is immediately doing in the environment, and allow it to learn from a more varied array of past experiences. \n",
    "\n",
    "Each of these experiences are stored as a tuple of *(state,action,reward,next state)*. The Experience Replay buffer stores a fixed number of recent memories, and as new ones come in, old ones are removed. When the time comes to train, we simply draw a uniform batch of random memories from the buffer, and train our network with them. \n",
    "\n",
    "For our DQN, we build a simple class that allows us to store experies and sample them randomly to train the network:"
   ]
  },
  {
   "cell_type": "code",
   "execution_count": 3,
   "metadata": {
    "collapsed": true
   },
   "outputs": [],
   "source": [
    "class experience_buffer():\n",
    "    def __init__(self, buffer_size = 50000):\n",
    "        self.buffer = []\n",
    "        self.buffer_size = buffer_size\n",
    "    \n",
    "    def add(self,experience):\n",
    "        if len(self.buffer) + len(experience) >= self.buffer_size:\n",
    "            self.buffer[0:(len(experience)+len(self.buffer))-self.buffer_size] = []\n",
    "        self.buffer.extend(experience)\n",
    "            \n",
    "    def sample(self,size):\n",
    "        return np.reshape(np.array(random.sample(self.buffer,size)),[size,5])"
   ]
  },
  {
   "cell_type": "markdown",
   "metadata": {},
   "source": [
    "This is a simple function to resize our game frames:"
   ]
  },
  {
   "cell_type": "code",
   "execution_count": 4,
   "metadata": {
    "collapsed": true
   },
   "outputs": [],
   "source": [
    "def processState(states):\n",
    "    return np.reshape(states,[21168]) # 84 x 84 x 3"
   ]
  },
  {
   "cell_type": "markdown",
   "metadata": {},
   "source": [
    "### Addition 3: Separate Target Network"
   ]
  },
  {
   "cell_type": "markdown",
   "metadata": {},
   "source": [
    "The third major addition to the DQN that makes it unique is the utilization of a second network during the training procedure. This second network is used to generate the target-Q values that will be used to compute the loss for every action during training. Why not use just use one network for both estimations? The issue is that at every step of training, the Q-network’s values shift, and if we are using a constantly shifting set of values to adjust our network values, then the value estimations can easily spiral out of control. The network can become destabilized by falling into feedback loops between the target and estimated Q-values. In order to mitigate that risk, the target network’s weights are fixed, and only periodically or slowly updated to the primary Q-networks values. In this way training can proceed in a more stable manner."
   ]
  },
  {
   "cell_type": "markdown",
   "metadata": {},
   "source": [
    "These functions allow us to update the parameters of our target network with those of the primary network."
   ]
  },
  {
   "cell_type": "code",
   "execution_count": 5,
   "metadata": {
    "collapsed": true
   },
   "outputs": [],
   "source": [
    "def updateTargetGraph(tfVars,tau):\n",
    "    total_vars = len(tfVars)\n",
    "    op_holder = []\n",
    "    for idx,var in enumerate(tfVars[0:total_vars//2]):\n",
    "        op_holder.append(tfVars[idx+total_vars//2].assign((var.value()*tau) + ((1-tau)*tfVars[idx+total_vars//2].value())))\n",
    "    return op_holder\n",
    "\n",
    "def updateTarget(op_holder,sess):\n",
    "    for op in op_holder:\n",
    "        sess.run(op)"
   ]
  },
  {
   "cell_type": "markdown",
   "metadata": {},
   "source": [
    "With the additions above, we have everything we need to replicate the DQN.  "
   ]
  },
  {
   "cell_type": "markdown",
   "metadata": {},
   "source": [
    "### Dueling DQN"
   ]
  },
  {
   "cell_type": "markdown",
   "metadata": {},
   "source": [
    "In order to explain the reasoning behind the architecture changes that Dueling DQN makes, we need to first explain some a few additional reinforcement learning terms. The Q-values that we have been discussing so far correspond to how good it is to take a certain action given a certain state. This can be written as `Q(s,a)`. This action given state can actually be decomposed into two more fundamental notions of value. The first is the value function `V(s)`, which says simple how good it is to be in any given state. The second is the advantage function `A(a)`, which tells how much better taking a certain action would be compared to the others. We can then think of `Q` as being the combination of `V` and `A`. More formally:"
   ]
  },
  {
   "cell_type": "markdown",
   "metadata": {},
   "source": [
    "$$ Q(s,a) =V(s) + A(a) $$"
   ]
  },
  {
   "cell_type": "markdown",
   "metadata": {},
   "source": [
    "The goal of Dueling DQN is to have a network that separately computes the advantage and value functions, and combines them back into a single Q-function only at the final layer. It may seem somewhat pointless to do this at first glance. Why decompose a function that we will just put back together? The key to realizing the benefit is to appreciate that our reinforcement learning agent may not need to care about both value and advantage at any given time. We can achieve more robust estimates of state value by decoupling it from the necessity of being attached to specific actions."
   ]
  },
  {
   "cell_type": "markdown",
   "metadata": {},
   "source": [
    "### Implementing the network itself"
   ]
  },
  {
   "cell_type": "code",
   "execution_count": 12,
   "metadata": {
    "collapsed": true
   },
   "outputs": [],
   "source": [
    "class Qnetwork():\n",
    "    def __init__(self,h_size):\n",
    "        #The network recieves a frame from the game, flattened into an array.\n",
    "        #It then resizes it and processes it through four convolutional layers.\n",
    "        #We use slim.conv2d to set up our network \n",
    "        self.scalarInput =  tf.placeholder(shape=[None,21168],dtype=tf.float32)\n",
    "        self.imageIn = tf.reshape(self.scalarInput,shape=[-1,84,84,3])\n",
    "        self.conv1 = slim.conv2d( \\\n",
    "            inputs=self.imageIn,num_outputs=32,kernel_size=[8,8],stride=[4,4],padding='VALID', biases_initializer=None)\n",
    "        self.conv2 = slim.conv2d( \\\n",
    "            inputs=self.conv1,num_outputs=64,kernel_size=[4,4],stride=[2,2],padding='VALID', biases_initializer=None)\n",
    "        self.conv3 = slim.conv2d( \\\n",
    "            inputs=self.conv2,num_outputs=64,kernel_size=[3,3],stride=[1,1],padding='VALID', biases_initializer=None)\n",
    "        self.conv4 = slim.conv2d( \\\n",
    "            inputs=self.conv3,num_outputs=h_size,kernel_size=[7,7],stride=[1,1],padding='VALID', biases_initializer=None)\n",
    "        \n",
    "        ################################################################################\n",
    "        # TODO: Implement Dueling DQN                                                  #\n",
    "        # We take the output from the final convolutional layer i.e. self.conv4 and    #\n",
    "        # split it into separate advantage and value streams.                          #\n",
    "        # Outout: self.Advantage, self.Value                                           #\n",
    "        # Hint: Refer to Fig.1 in [Dueling DQN](https://arxiv.org/pdf/1511.06581.pdf)  #\n",
    "        #       In implementation, use tf.split to split into two branches. You may    #\n",
    "        #       use xavier_initializer for initializing the two additional linear      #\n",
    "        #       layers.                                                                # \n",
    "        ################################################################################\n",
    "        self.conv4=tf.contrib.layers.flatten(self.conv4)\n",
    "        self.Value,self.Advantage=tf.split(self.conv4,2,axis=1)\n",
    "        #self.Value=tf.contrib.layers.flatten(self.Value)\n",
    "        #self.Advantage=tf.contrib.layers.flatten(self.Advantage)\n",
    "        self.Value=tf.contrib.layers.fully_connected(self.Value,1,activation_fn=None)\n",
    "        self.Advantage=tf.contrib.layers.fully_connected(self.Advantage,env.actions,activation_fn=None)\n",
    "        ################################################\n",
    "        #                                 END OF YOUR CODE                             #\n",
    "        ################################################################################\n",
    "        \n",
    "        #Then combine them together to get our final Q-values. \n",
    "        #Please refer to Equation (9) in [Dueling DQN](https://arxiv.org/pdf/1511.06581.pdf)\n",
    "        self.Qout = self.Value + tf.subtract(self.Advantage,tf.reduce_mean(self.Advantage,axis=1,keep_dims=True))\n",
    "        self.predict = tf.argmax(self.Qout,1)\n",
    "        \n",
    "        #Below we obtain the loss by taking the sum of squares difference between the target and prediction Q values.\n",
    "        self.targetQ = tf.placeholder(shape=[None],dtype=tf.float32)\n",
    "        self.actions = tf.placeholder(shape=[None],dtype=tf.int32)\n",
    "        self.actions_onehot = tf.one_hot(self.actions,env.actions,dtype=tf.float32)\n",
    "        \n",
    "        ################################################################################\n",
    "        # TODO:                                                                        #\n",
    "        # Obtain the loss (self.loss) by taking the sum of squares difference          #\n",
    "        # between the target and prediction Q values.                                  #\n",
    "        ################################################################################\n",
    "        self.Q=tf.reduce_sum(tf.multiply(self.Qout,self.actions_onehot),1) # dot product\n",
    "        self.loss=tf.reduce_mean(tf.square(self.Q-self.targetQ))\n",
    "        ################################################################################\n",
    "        #                                 END OF YOUR CODE                             #\n",
    "        ################################################################################\n",
    "        \n",
    "        self.trainer = tf.train.AdamOptimizer(learning_rate=0.0001)\n",
    "        self.updateModel = self.trainer.minimize(self.loss)"
   ]
  },
  {
   "cell_type": "markdown",
   "metadata": {},
   "source": [
    "### Training the network"
   ]
  },
  {
   "cell_type": "markdown",
   "metadata": {},
   "source": [
    "Setting all the training parameters"
   ]
  },
  {
   "cell_type": "code",
   "execution_count": 13,
   "metadata": {
    "collapsed": true
   },
   "outputs": [],
   "source": [
    "batch_size = 32 #How many experiences to use for each training step.\n",
    "update_freq = 4 #How often to perform a training step.\n",
    "y = .99 #Discount factor on the target Q-values\n",
    "startE = 1 #Starting chance of random action\n",
    "endE = 0.1 #Final chance of random action\n",
    "annealing_steps = 10000. #How many steps of training to reduce startE to endE.\n",
    "num_episodes = 5000 #How many episodes of game environment to train network with.\n",
    "pre_train_steps = 10000 #How many steps of random actions before training begins.\n",
    "max_epLength = 50 #The max allowed length of our episode.\n",
    "load_model = False #Whether to load a saved model.\n",
    "path = \"./dqn\" #The path to save our model to.\n",
    "h_size = 512 #The size of the final convolutional layer before splitting it into Advantage and Value streams.\n",
    "tau = 0.001 #Rate to update target network toward primary network"
   ]
  },
  {
   "cell_type": "markdown",
   "metadata": {},
   "source": [
    "### Double DQN"
   ]
  },
  {
   "cell_type": "markdown",
   "metadata": {},
   "source": [
    "The main intuition behind Double DQN is that the regular DQN often overestimates the Q-values of the potential actions to take in a given state. While this would be fine if all actions were always overestimates equally, there was reason to believe this wasn’t the case. You can easily imagine that if certain suboptimal actions regularly were given higher Q-values than optimal actions, the agent would have a hard time ever learning the ideal policy. In order to correct for this, the authors of DDQN paper propose a simple trick: instead of taking the max over Q-values when computing the target-Q value for our training step, we use our primary network to chose an action, and our target network to generate the target Q-value for that action. By decoupling the action choice from the target Q-value generation, we are able to substantially reduce the overestimation, and train faster and more reliably. Below is the new DDQN equation for updating the target value.\n"
   ]
  },
  {
   "cell_type": "markdown",
   "metadata": {},
   "source": [
    "$$ Q \\text{-}target = r + γQ(s',\\arg \\max(Q(s’,a,\\theta),\\theta')) $$"
   ]
  },
  {
   "cell_type": "code",
   "execution_count": 16,
   "metadata": {
    "scrolled": true
   },
   "outputs": [
    {
     "name": "stdout",
     "output_type": "stream",
     "text": [
      "Saved Model\n",
      "Episode 49 reward: 2.26\n",
      "Episode 99 reward: 2.04\n",
      "Episode 149 reward: 1.76\n",
      "Episode 199 reward: 1.82\n",
      "Episode 249 reward: 2.08\n",
      "Episode 299 reward: 1.76\n",
      "Episode 349 reward: 2.68\n",
      "Episode 399 reward: 3.42\n",
      "Episode 449 reward: 3.58\n",
      "Episode 499 reward: 5.62\n",
      "Episode 549 reward: 7.1\n",
      "Episode 599 reward: 10.12\n",
      "Episode 649 reward: 12.44\n",
      "Episode 699 reward: 12.9\n",
      "Episode 749 reward: 15.26\n",
      "Episode 799 reward: 17.26\n",
      "Episode 849 reward: 17.74\n",
      "Episode 899 reward: 19.74\n",
      "Episode 949 reward: 19.18\n",
      "Episode 999 reward: 21.12\n",
      "Saved Model\n",
      "Episode 1049 reward: 21.48\n",
      "Episode 1099 reward: 20.2\n",
      "Episode 1149 reward: 20.52\n",
      "Episode 1199 reward: 20.64\n",
      "Episode 1249 reward: 21.24\n",
      "Episode 1299 reward: 21.22\n",
      "Episode 1349 reward: 22.72\n",
      "Episode 1399 reward: 21.2\n",
      "Episode 1449 reward: 21.08\n",
      "Episode 1499 reward: 22.08\n",
      "Episode 1549 reward: 21.96\n",
      "Episode 1599 reward: 22.12\n",
      "Episode 1649 reward: 21.0\n",
      "Episode 1699 reward: 21.34\n",
      "Episode 1749 reward: 21.98\n",
      "Episode 1799 reward: 21.52\n",
      "Episode 1849 reward: 21.46\n",
      "Episode 1899 reward: 21.32\n",
      "Episode 1949 reward: 21.86\n",
      "Episode 1999 reward: 21.42\n",
      "Saved Model\n",
      "Episode 2049 reward: 22.2\n",
      "Episode 2099 reward: 21.16\n",
      "Episode 2149 reward: 21.48\n",
      "Episode 2199 reward: 20.42\n",
      "Episode 2249 reward: 21.98\n",
      "Episode 2299 reward: 21.42\n",
      "Episode 2349 reward: 20.52\n",
      "Episode 2399 reward: 21.64\n",
      "Episode 2449 reward: 21.5\n",
      "Episode 2499 reward: 21.48\n",
      "Episode 2549 reward: 20.88\n",
      "Episode 2599 reward: 20.92\n",
      "Episode 2649 reward: 21.72\n",
      "Episode 2699 reward: 21.5\n",
      "Episode 2749 reward: 21.56\n",
      "Episode 2799 reward: 21.3\n",
      "Episode 2849 reward: 21.88\n",
      "Episode 2899 reward: 22.38\n",
      "Episode 2949 reward: 21.52\n",
      "Episode 2999 reward: 21.72\n",
      "Saved Model\n",
      "Episode 3049 reward: 21.22\n",
      "Episode 3099 reward: 20.98\n",
      "Episode 3149 reward: 22.58\n",
      "Episode 3199 reward: 21.64\n",
      "Episode 3249 reward: 20.84\n",
      "Episode 3299 reward: 21.84\n",
      "Episode 3349 reward: 20.18\n",
      "Episode 3399 reward: 21.0\n",
      "Episode 3449 reward: 21.26\n",
      "Episode 3499 reward: 22.22\n",
      "Episode 3549 reward: 20.78\n",
      "Episode 3599 reward: 20.96\n",
      "Episode 3649 reward: 22.34\n",
      "Episode 3699 reward: 21.2\n",
      "Episode 3749 reward: 21.74\n",
      "Episode 3799 reward: 19.94\n",
      "Episode 3849 reward: 21.68\n",
      "Episode 3899 reward: 21.8\n",
      "Episode 3949 reward: 21.66\n",
      "Episode 3999 reward: 21.44\n",
      "Saved Model\n",
      "Episode 4049 reward: 22.36\n",
      "Episode 4099 reward: 21.6\n",
      "Episode 4149 reward: 21.88\n",
      "Episode 4199 reward: 21.2\n",
      "Episode 4249 reward: 22.36\n",
      "Episode 4299 reward: 21.56\n",
      "Episode 4349 reward: 22.2\n",
      "Episode 4399 reward: 21.8\n",
      "Episode 4449 reward: 22.98\n",
      "Episode 4499 reward: 21.84\n",
      "Episode 4549 reward: 21.62\n",
      "Episode 4599 reward: 20.9\n",
      "Episode 4649 reward: 22.06\n",
      "Episode 4699 reward: 21.38\n",
      "Episode 4749 reward: 22.36\n",
      "Episode 4799 reward: 21.86\n",
      "Episode 4849 reward: 22.66\n",
      "Episode 4899 reward: 22.58\n",
      "Episode 4949 reward: 21.94\n",
      "Episode 4999 reward: 20.94\n",
      "Mean reward per episode: 19.028\n"
     ]
    }
   ],
   "source": [
    "tf.reset_default_graph()\n",
    "mainQN = Qnetwork(h_size)\n",
    "targetQN = Qnetwork(h_size)\n",
    "\n",
    "init = tf.global_variables_initializer()\n",
    "\n",
    "saver = tf.train.Saver()\n",
    "\n",
    "trainables = tf.trainable_variables()\n",
    "\n",
    "targetOps = updateTargetGraph(trainables,tau)\n",
    "\n",
    "myBuffer = experience_buffer()\n",
    "\n",
    "#Set the rate of random action decrease. \n",
    "e = startE\n",
    "stepDrop = (startE - endE)/annealing_steps\n",
    "\n",
    "#create lists to contain total rewards and steps per episode\n",
    "jList = []\n",
    "rList = []\n",
    "total_steps = 0\n",
    "\n",
    "#Make a path for our model to be saved in.\n",
    "if not os.path.exists(path):\n",
    "    os.makedirs(path)\n",
    "\n",
    "with tf.Session() as sess:\n",
    "    sess.run(init)\n",
    "    if load_model == True:\n",
    "        print('Loading Model...')\n",
    "        ckpt = tf.train.get_checkpoint_state(path)\n",
    "        saver.restore(sess,ckpt.model_checkpoint_path)\n",
    "    for i in range(num_episodes):\n",
    "        episodeBuffer = experience_buffer()\n",
    "        #Reset environment and get first new observation\n",
    "        s = env.reset()\n",
    "        s = processState(s)\n",
    "        d = False\n",
    "        rAll = 0\n",
    "        j = 0\n",
    "        #The Q-Network\n",
    "        while j < max_epLength: #If the agent takes longer than 50 moves to reach either of the blocks, end the trial.\n",
    "            j+=1\n",
    "            #Choose an action by greedily (with e chance of random action) from the Q-network\n",
    "            if np.random.rand(1) < e or total_steps < pre_train_steps:\n",
    "                a = np.random.randint(0,4)\n",
    "            else:\n",
    "                a = sess.run(mainQN.predict,feed_dict={mainQN.scalarInput:[s]})[0]\n",
    "            total_steps += 1\n",
    "            \n",
    "            ################################################################################\n",
    "            # TODO: Save the experience to our episode buffer.                             #\n",
    "            # You will need to do the following:                                           #\n",
    "            # (1) Get new state s1 (resized), reward r and done d from a                   #\n",
    "            # (2) Add experience to episode buffer. Hint: experience includes              #\n",
    "            #     s, a, r, s1 and d.                                                       #\n",
    "            ################################################################################\n",
    "            s1,r,d=env.step(a)\n",
    "            s1=processState(s1) #resize s1\n",
    "            episodeBuffer.add(np.reshape(np.array([s,a,r,s1,d]),[1,5]))\n",
    "            ################################################################################\n",
    "            #                                 END OF YOUR CODE                             #\n",
    "            ################################################################################\n",
    "            \n",
    "            if total_steps > pre_train_steps:\n",
    "                if e > endE:\n",
    "                    e -= stepDrop\n",
    "                \n",
    "                if total_steps % (update_freq) == 0:\n",
    "                    \n",
    "                    ################################################################################\n",
    "                    # TODO: Implement Double-DQN                                                   #\n",
    "                    # (1) Get a random batch of experiences via experience_buffer class            #\n",
    "                    #                                                                              #\n",
    "                    # (2) Perform the Double-DQN update to the target Q-values                     #\n",
    "                    #     Hint: Use mainQN and targetQN separately to chose an action and predict  #\n",
    "                    #     the Q-values for that action.                                            #\n",
    "                    #     Then compute targetQ based on Double-DQN equation                        #\n",
    "                    #                                                                              #\n",
    "                    # (3) Update the primary network with our target values                        #\n",
    "                    ################################################################################ \n",
    "                    batch=myBuffer.sample(batch_size) #sample from the total buffer instead of  episode buffer\n",
    "                   \n",
    "                    pred=sess.run(mainQN.predict,feed_dict={mainQN.scalarInput:np.vstack(batch[:,3])}) # only use the state in experience\n",
    "                    Q=sess.run(targetQN.Qout,feed_dict={targetQN.scalarInput:np.vstack(batch[:,3])})\n",
    "                    done= 1-batch[:,4]\n",
    "                    doubleQ=Q[range(batch_size),pred]\n",
    "                    targetQ=batch[:,2]+y*doubleQ*done\n",
    "                    \n",
    "                    _=sess.run(mainQN.updateModel, feed_dict={mainQN.scalarInput:np.vstack(batch[:,0]),\\\n",
    "                                                              mainQN.targetQ:targetQ,mainQN.actions:batch[:,1]})\n",
    "                    ################################################################################\n",
    "                    #                                 END OF YOUR CODE                             #\n",
    "                    ################################################################################\n",
    "                           \n",
    "                    updateTarget(targetOps,sess) #Update the target network toward the primary network.\n",
    "            rAll += r\n",
    "            s = s1\n",
    "            \n",
    "            if d == True:\n",
    "\n",
    "                break\n",
    "        \n",
    "        myBuffer.add(episodeBuffer.buffer)\n",
    "        jList.append(j)\n",
    "        rList.append(rAll)\n",
    "        #Periodically save the model. \n",
    "        if i % 1000 == 0:\n",
    "            saver.save(sess,path+'/model-'+str(i)+'.ckpt')\n",
    "            print(\"Saved Model\")\n",
    "        if len(rList) % 50 == 0:\n",
    "            print(\"Episode\",i,\"reward:\",np.mean(rList[-50:]))\n",
    "    saver.save(sess,path+'/model-'+str(i)+'.ckpt')\n",
    "print(\"Mean reward per episode: \" + str(sum(rList)/num_episodes))"
   ]
  },
  {
   "cell_type": "markdown",
   "metadata": {},
   "source": [
    "It takes about 40 minutes to train 5000 episodes in Lab 4 machines. Mean reward per episode (50 steps) should be around 20"
   ]
  },
  {
   "cell_type": "markdown",
   "metadata": {},
   "source": [
    "### Checking network learning"
   ]
  },
  {
   "cell_type": "markdown",
   "metadata": {},
   "source": [
    "Mean reward over time"
   ]
  },
  {
   "cell_type": "code",
   "execution_count": 17,
   "metadata": {},
   "outputs": [
    {
     "data": {
      "text/plain": [
       "[<matplotlib.lines.Line2D at 0x22f533030b8>]"
      ]
     },
     "execution_count": 17,
     "metadata": {},
     "output_type": "execute_result"
    },
    {
     "data": {
      "image/png": "[encoded data removed]",
      "text/plain": [
       "<matplotlib.figure.Figure at 0x2300df7f9b0>"
      ]
     },
     "metadata": {},
     "output_type": "display_data"
    }
   ],
   "source": [
    "rMat = np.resize(np.array(rList),[len(rList)//100,100])\n",
    "rMean = np.average(rMat,1)\n",
    "plt.plot(rMean)"
   ]
  },
  {
   "cell_type": "markdown",
   "metadata": {},
   "source": [
    "## Inline Question:\n",
    "Try a basic DQN without Dueling DQN and Double DQN (i.e. only one single network, no decomposition of the Q-function). You don't need to provide detailed source, just some quantitative comparison is OK (e.g. by comparing the mean reward). **\n",
    "\n",
    "**Your answer:** The training didn't converge. This may be due to the overestimate problem mentioned in the double DQN.\n",
    "The mean reward is only 1, while using Dueling DQN and Double DQN we can acheive more than 19."
   ]
  },
  {
   "cell_type": "code",
   "execution_count": 22,
   "metadata": {
    "collapsed": true
   },
   "outputs": [],
   "source": [
    "class simpleQnetwork():\n",
    "    def __init__(self,h_size):\n",
    "        #The network recieves a frame from the game, flattened into an array.\n",
    "        #It then resizes it and processes it through four convolutional layers.\n",
    "        #We use slim.conv2d to set up our network \n",
    "        self.scalarInput =  tf.placeholder(shape=[None,21168],dtype=tf.float32)\n",
    "        self.imageIn = tf.reshape(self.scalarInput,shape=[-1,84,84,3])\n",
    "        self.conv1 = slim.conv2d( \\\n",
    "            inputs=self.imageIn,num_outputs=32,kernel_size=[8,8],stride=[4,4],padding='VALID', biases_initializer=None)\n",
    "        self.conv2 = slim.conv2d( \\\n",
    "            inputs=self.conv1,num_outputs=64,kernel_size=[4,4],stride=[2,2],padding='VALID', biases_initializer=None)\n",
    "        self.conv3 = slim.conv2d( \\\n",
    "            inputs=self.conv2,num_outputs=64,kernel_size=[3,3],stride=[1,1],padding='VALID', biases_initializer=None)\n",
    "        self.conv4 = slim.conv2d( \\\n",
    "            inputs=self.conv3,num_outputs=h_size,kernel_size=[7,7],stride=[1,1],padding='VALID', biases_initializer=None)\n",
    "        \n",
    "        ################################################################################\n",
    "        # TODO: Implement Dueling DQN                                                  #\n",
    "        # We take the output from the final convolutional layer i.e. self.conv4 and    #\n",
    "        # split it into separate advantage and value streams.                          #\n",
    "        # Outout: self.Advantage, self.Value                                           #\n",
    "        # Hint: Refer to Fig.1 in [Dueling DQN](https://arxiv.org/pdf/1511.06581.pdf)  #\n",
    "        #       In implementation, use tf.split to split into two branches. You may    #\n",
    "        #       use xavier_initializer for initializing the two additional linear      #\n",
    "        #       layers.                                                                # \n",
    "        ################################################################################\n",
    "        self.conv4=tf.contrib.layers.flatten(self.conv4)\n",
    "        ################################################\n",
    "        #                                 END OF YOUR CODE                             #\n",
    "        ################################################################################\n",
    "        \n",
    "        #Then combine them together to get our final Q-values. \n",
    "        #Please refer to Equation (9) in [Dueling DQN](https://arxiv.org/pdf/1511.06581.pdf)\n",
    "        self.fc1= tf.contrib.layers.fully_connected(self.conv4,256)\n",
    "        self.Qout = tf.contrib.layers.fully_connected(self.fc1,env.actions,activation_fn=None)\n",
    "        self.predict = tf.argmax(self.Qout,1)\n",
    "        \n",
    "        #Below we obtain the loss by taking the sum of squares difference between the target and prediction Q values.\n",
    "        self.targetQ = tf.placeholder(shape=[None],dtype=tf.float32)\n",
    "        self.actions = tf.placeholder(shape=[None],dtype=tf.int32)\n",
    "        self.actions_onehot = tf.one_hot(self.actions,env.actions,dtype=tf.float32)\n",
    "        \n",
    "        ################################################################################\n",
    "        # TODO:                                                                        #\n",
    "        # Obtain the loss (self.loss) by taking the sum of squares difference          #\n",
    "        # between the target and prediction Q values.                                  #\n",
    "        ################################################################################\n",
    "        self.Q=tf.reduce_sum(tf.multiply(self.Qout,self.actions_onehot),1) # dot product\n",
    "        self.loss=tf.reduce_mean(tf.square(self.Q-self.targetQ))\n",
    "        ################################################################################\n",
    "        #                                 END OF YOUR CODE                             #\n",
    "        ################################################################################\n",
    "        \n",
    "        self.trainer = tf.train.AdamOptimizer(learning_rate=0.0001)\n",
    "        self.updateModel = self.trainer.minimize(self.loss)"
   ]
  },
  {
   "cell_type": "code",
   "execution_count": 23,
   "metadata": {},
   "outputs": [
    {
     "name": "stdout",
     "output_type": "stream",
     "text": [
      "Saved Model\n",
      "Episode 49 reward: 2.3\n",
      "Episode 99 reward: 1.76\n",
      "Episode 149 reward: 2.02\n",
      "Episode 199 reward: 1.26\n",
      "Episode 249 reward: 2.0\n",
      "Episode 299 reward: 1.38\n",
      "Episode 349 reward: 1.64\n",
      "Episode 399 reward: 1.14\n",
      "Episode 449 reward: 0.76\n",
      "Episode 499 reward: 0.8\n",
      "Episode 549 reward: 0.34\n",
      "Episode 599 reward: 0.84\n",
      "Episode 649 reward: 0.8\n",
      "Episode 699 reward: 1.3\n",
      "Episode 749 reward: 1.28\n",
      "Episode 799 reward: 1.36\n",
      "Episode 849 reward: 1.7\n",
      "Episode 899 reward: 1.5\n",
      "Episode 949 reward: 0.22\n",
      "Episode 999 reward: 0.12\n",
      "Saved Model\n",
      "Episode 1049 reward: 0.36\n",
      "Episode 1099 reward: 0.72\n",
      "Episode 1149 reward: 0.16\n",
      "Episode 1199 reward: 0.26\n",
      "Episode 1249 reward: 0.58\n",
      "Episode 1299 reward: 0.54\n",
      "Episode 1349 reward: 0.48\n",
      "Episode 1399 reward: 0.24\n",
      "Episode 1449 reward: 0.3\n",
      "Episode 1499 reward: 0.5\n",
      "Episode 1549 reward: 0.64\n",
      "Episode 1599 reward: 0.78\n",
      "Episode 1649 reward: 0.64\n",
      "Episode 1699 reward: 0.88\n",
      "Episode 1749 reward: 1.28\n",
      "Episode 1799 reward: 1.12\n",
      "Episode 1849 reward: 0.96\n",
      "Episode 1899 reward: 1.08\n",
      "Episode 1949 reward: 1.18\n",
      "Episode 1999 reward: 0.92\n",
      "Saved Model\n",
      "Episode 2049 reward: 1.44\n",
      "Episode 2099 reward: 1.34\n",
      "Episode 2149 reward: 1.04\n",
      "Episode 2199 reward: 0.88\n",
      "Episode 2249 reward: 1.34\n",
      "Episode 2299 reward: 1.62\n",
      "Episode 2349 reward: 1.26\n",
      "Episode 2399 reward: 0.88\n",
      "Episode 2449 reward: 0.7\n",
      "Episode 2499 reward: 0.86\n",
      "Episode 2549 reward: 1.18\n",
      "Episode 2599 reward: 1.2\n",
      "Episode 2649 reward: 1.18\n",
      "Episode 2699 reward: 0.86\n",
      "Episode 2749 reward: 1.16\n",
      "Episode 2799 reward: 1.24\n",
      "Episode 2849 reward: 1.1\n",
      "Episode 2899 reward: 0.46\n",
      "Episode 2949 reward: 0.7\n",
      "Episode 2999 reward: 0.86\n",
      "Saved Model\n",
      "Episode 3049 reward: 0.52\n",
      "Episode 3099 reward: 0.68\n",
      "Episode 3149 reward: 0.54\n",
      "Episode 3199 reward: 1.14\n",
      "Episode 3249 reward: 0.98\n",
      "Episode 3299 reward: 0.9\n",
      "Episode 3349 reward: 1.56\n",
      "Episode 3399 reward: 1.0\n",
      "Episode 3449 reward: 1.5\n",
      "Episode 3499 reward: 2.04\n",
      "Episode 3549 reward: 1.56\n",
      "Episode 3599 reward: 1.22\n",
      "Episode 3649 reward: 1.44\n",
      "Episode 3699 reward: 1.52\n",
      "Episode 3749 reward: 1.28\n",
      "Episode 3799 reward: 1.78\n",
      "Episode 3849 reward: 1.58\n",
      "Episode 3899 reward: 0.46\n",
      "Episode 3949 reward: 0.42\n",
      "Episode 3999 reward: 0.08\n",
      "Saved Model\n",
      "Episode 4049 reward: 0.66\n",
      "Episode 4099 reward: 0.26\n",
      "Episode 4149 reward: 0.66\n",
      "Episode 4199 reward: 1.0\n",
      "Episode 4249 reward: 0.78\n",
      "Episode 4299 reward: 0.84\n",
      "Episode 4349 reward: 0.72\n",
      "Episode 4399 reward: 0.7\n",
      "Episode 4449 reward: 1.44\n",
      "Episode 4499 reward: 1.1\n",
      "Episode 4549 reward: 1.24\n",
      "Episode 4599 reward: 1.96\n",
      "Episode 4649 reward: 1.2\n",
      "Episode 4699 reward: 2.06\n",
      "Episode 4749 reward: 1.42\n",
      "Episode 4799 reward: 1.04\n",
      "Episode 4849 reward: 1.06\n",
      "Episode 4899 reward: 2.3\n",
      "Episode 4949 reward: 1.5\n",
      "Episode 4999 reward: 1.42\n",
      "Mean reward per episode: 1.05\n"
     ]
    }
   ],
   "source": [
    "tf.reset_default_graph()\n",
    "mainQN = simpleQnetwork(h_size)\n",
    "#targetQN = Qnetwork(h_size)\n",
    "\n",
    "init = tf.global_variables_initializer()\n",
    "\n",
    "saver = tf.train.Saver()\n",
    "\n",
    "trainables = tf.trainable_variables()\n",
    "\n",
    "#targetOps = updateTargetGraph(trainables,tau)\n",
    "\n",
    "myBuffer = experience_buffer()\n",
    "\n",
    "#Set the rate of random action decrease. \n",
    "e = startE\n",
    "stepDrop = (startE - endE)/annealing_steps\n",
    "\n",
    "#create lists to contain total rewards and steps per episode\n",
    "jList = []\n",
    "rList = []\n",
    "total_steps = 0\n",
    "\n",
    "#Make a path for our model to be saved in.\n",
    "if not os.path.exists(path):\n",
    "    os.makedirs(path)\n",
    "\n",
    "with tf.Session() as sess:\n",
    "    sess.run(init)\n",
    "    if load_model == True:\n",
    "        print('Loading Model...')\n",
    "        ckpt = tf.train.get_checkpoint_state(path)\n",
    "        saver.restore(sess,ckpt.model_checkpoint_path)\n",
    "    for i in range(num_episodes):\n",
    "        episodeBuffer = experience_buffer()\n",
    "        #Reset environment and get first new observation\n",
    "        s = env.reset()\n",
    "        s = processState(s)\n",
    "        d = False\n",
    "        rAll = 0\n",
    "        j = 0\n",
    "        #The Q-Network\n",
    "        while j < max_epLength: #If the agent takes longer than 50 moves to reach either of the blocks, end the trial.\n",
    "            j+=1\n",
    "            #Choose an action by greedily (with e chance of random action) from the Q-network\n",
    "            if np.random.rand(1) < e or total_steps < pre_train_steps:\n",
    "                a = np.random.randint(0,4)\n",
    "            else:\n",
    "                a = sess.run(mainQN.predict,feed_dict={mainQN.scalarInput:[s]})[0]\n",
    "            total_steps += 1\n",
    "            \n",
    "            ################################################################################\n",
    "            # TODO: Save the experience to our episode buffer.                             #\n",
    "            # You will need to do the following:                                           #\n",
    "            # (1) Get new state s1 (resized), reward r and done d from a                   #\n",
    "            # (2) Add experience to episode buffer. Hint: experience includes              #\n",
    "            #     s, a, r, s1 and d.                                                       #\n",
    "            ################################################################################\n",
    "            s1,r,d=env.step(a)\n",
    "            s1=processState(s1) #resize s1\n",
    "            episodeBuffer.add(np.reshape(np.array([s,a,r,s1,d]),[1,5]))\n",
    "            ################################################################################\n",
    "            #                                 END OF YOUR CODE                             #\n",
    "            ################################################################################\n",
    "            \n",
    "            if total_steps > pre_train_steps:\n",
    "                if e > endE:\n",
    "                    e -= stepDrop\n",
    "                \n",
    "                if total_steps % (update_freq) == 0:\n",
    "                    \n",
    "                    ################################################################################\n",
    "                    # TODO: Implement Double-DQN                                                   #\n",
    "                    # (1) Get a random batch of experiences via experience_buffer class            #\n",
    "                    #                                                                              #\n",
    "                    # (2) Perform the Double-DQN update to the target Q-values                     #\n",
    "                    #     Hint: Use mainQN and targetQN separately to chose an action and predict  #\n",
    "                    #     the Q-values for that action.                                            #\n",
    "                    #     Then compute targetQ based on Double-DQN equation                        #\n",
    "                    #                                                                              #\n",
    "                    # (3) Update the primary network with our target values                        #\n",
    "                    ################################################################################ \n",
    "                    batch=myBuffer.sample(batch_size) #sample from the total buffer instead of  episode buffer\n",
    "                   \n",
    "                    #pred=sess.run(mainQN.predict,feed_dict={mainQN.scalarInput:np.vstack(batch[:,3])}) # only use the state in experience\n",
    "                    #Q=sess.run(targetQN.Qout,feed_dict={targetQN.scalarInput:np.vstack(batch[:,3])})\n",
    "                    done= 1-batch[:,4]\n",
    "                    #doubleQ=Q[range(batch_size),pred]\n",
    "                    maxQ=np.max(sess.run(mainQN.Qout,feed_dict={mainQN.scalarInput:np.vstack(batch[:,3])}),axis=1)\n",
    "                    targetQ=batch[:,2]+y*maxQ*done\n",
    "                    \n",
    "                    _=sess.run(mainQN.updateModel, feed_dict={mainQN.scalarInput:np.vstack(batch[:,0]),\\\n",
    "                                                              mainQN.targetQ:targetQ,mainQN.actions:batch[:,1]})\n",
    "                    ################################################################################\n",
    "                    #                                 END OF YOUR CODE                             #\n",
    "                    ################################################################################\n",
    "                           \n",
    "                    #updateTarget(targetOps,sess) #Update the target network toward the primary network.\n",
    "            rAll += r\n",
    "            s = s1\n",
    "            \n",
    "            if d == True:\n",
    "\n",
    "                break\n",
    "        \n",
    "        myBuffer.add(episodeBuffer.buffer)\n",
    "        jList.append(j)\n",
    "        rList.append(rAll)\n",
    "        #Periodically save the model. \n",
    "        if i % 1000 == 0:\n",
    "            saver.save(sess,path+'/model-'+str(i)+'.ckpt')\n",
    "            print(\"Saved Model\")\n",
    "        if len(rList) % 50 == 0:\n",
    "            print(\"Episode\",i,\"reward:\",np.mean(rList[-50:]))\n",
    "    saver.save(sess,path+'/model-'+str(i)+'.ckpt')\n",
    "print(\"Mean reward per episode: \" + str(sum(rList)/num_episodes))"
   ]
  },
  {
   "cell_type": "code",
   "execution_count": 24,
   "metadata": {},
   "outputs": [
    {
     "data": {
      "text/plain": [
       "[<matplotlib.lines.Line2D at 0x230154ea2b0>]"
      ]
     },
     "execution_count": 24,
     "metadata": {},
     "output_type": "execute_result"
    },
    {
     "data": {
      "image/png": "[encoded data removed]",
      "text/plain": [
       "<matplotlib.figure.Figure at 0x2300cc0e390>"
      ]
     },
     "metadata": {},
     "output_type": "display_data"
    }
   ],
   "source": [
    "rMat = np.resize(np.array(rList),[len(rList)//100,100])\n",
    "rMean = np.average(rMat,1)\n",
    "plt.plot(rMean)"
   ]
  },
  {
   "cell_type": "code",
   "execution_count": null,
   "metadata": {
    "collapsed": true
   },
   "outputs": [],
   "source": []
  }
 ],
 "metadata": {
  "anaconda-cloud": {},
  "kernelspec": {
   "display_name": "Python 3",
   "language": "python",
   "name": "python3"
  },
  "language_info": {
   "codemirror_mode": {
    "name": "ipython",
    "version": 3
   },
   "file_extension": ".py",
   "mimetype": "text/x-python",
   "name": "python",
   "nbconvert_exporter": "python",
   "pygments_lexer": "ipython3",
   "version": "3.5.3"
  }
 },
 "nbformat": 4,
 "nbformat_minor": 1
}
